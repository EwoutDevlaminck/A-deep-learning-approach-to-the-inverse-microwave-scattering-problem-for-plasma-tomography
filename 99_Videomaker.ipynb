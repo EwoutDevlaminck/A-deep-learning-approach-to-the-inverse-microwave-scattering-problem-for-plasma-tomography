{
 "cells": [
  {
   "attachments": {},
   "cell_type": "markdown",
   "metadata": {},
   "source": [
    "## Imports"
   ]
  },
  {
   "cell_type": "code",
   "execution_count": 58,
   "metadata": {
    "tags": []
   },
   "outputs": [],
   "source": [
    "# import modules\n",
    "from numba import jit\n",
    "import numpy as np\n",
    "import scipy as sp\n",
    "import matplotlib.pyplot as plt\n",
    "import matplotlib\n",
    "import matplotlib.colors as mcolors\n",
    "from scipy.special import erf"
   ]
  },
  {
   "cell_type": "code",
   "execution_count": 59,
   "metadata": {},
   "outputs": [],
   "source": [
    "cmap = matplotlib.cm.get_cmap('cividis').copy()\n",
    "\n",
    "colors1 = plt.cm.inferno(np.linspace(0., 1, 128))\n",
    "colors2 = plt.cm.viridis(np.linspace(0, 1, 106))\n",
    "\n",
    "# combine them and build a new colormap\n",
    "colors = np.vstack((colors1[:22:-1], colors2[4:]))\n",
    "mymap = mcolors.LinearSegmentedColormap.from_list('my_colormap', colors[::-1])"
   ]
  },
  {
   "attachments": {},
   "cell_type": "markdown",
   "metadata": {},
   "source": [
    "## The plasma profiles"
   ]
  },
  {
   "attachments": {},
   "cell_type": "markdown",
   "metadata": {},
   "source": [
    "### Proxy for fusion-relevant"
   ]
  },
  {
   "cell_type": "code",
   "execution_count": 60,
   "metadata": {},
   "outputs": [],
   "source": [
    "\n",
    "def profile(x, y, npt_x, npt_y, ne_peak=1, eps = 1, triang = 0, scale=2):\n",
    "\n",
    "    x_aux = 4*((x - npt_x / 2)/(10*16*scale)+.1)\n",
    "\n",
    "    x_profile = (1 + erf((1+triang)*x_aux)) * np.exp(-x_aux)\n",
    "\n",
    "    return .75* ne_peak* x_profile * np.exp(-((y - npt_y / 2)/(10*16*scale * np.sqrt(2)*eps/4))**2)"
   ]
  },
  {
   "attachments": {},
   "cell_type": "markdown",
   "metadata": {},
   "source": [
    "### Plasma torch"
   ]
  },
  {
   "cell_type": "code",
   "execution_count": 61,
   "metadata": {},
   "outputs": [],
   "source": [
    "\n",
    "def old_profile(x, y, npt_x, npt_y, ne_peak, stdev, beta, scale=2):\n",
    "    aux1 = (x - npt_x / 2) / (np.sqrt(2) * stdev)\n",
    "    aux2 = (y - npt_y / 2) / (np.sqrt(2) * stdev)\n",
    "            \n",
    "    return ne_peak * np.exp(-(aux1 * aux1 + aux2 * aux2))**beta"
   ]
  },
  {
   "attachments": {},
   "cell_type": "markdown",
   "metadata": {},
   "source": [
    "### Jet-like"
   ]
  },
  {
   "cell_type": "code",
   "execution_count": 62,
   "metadata": {},
   "outputs": [],
   "source": [
    "from scipy.optimize import root_scalar\n",
    "from mpl_toolkits.axes_grid1 import make_axes_locatable\n",
    "\n",
    "def jet(angle, a, R0, delta, kappa):\n",
    "    R = R0 + a*np.cos(angle + delta*np.sin(angle))\n",
    "    z = kappa*a*np.sin(angle)\n",
    "\n",
    "    return R, z\n",
    "\n",
    "def inverse(R, z, R0, delta, kappa):\n",
    "    \n",
    "    def f(x, R=1, z=1, R0=1, delta=1, kappa=1, neg_side=False):\n",
    "        theta = np.arcsin(z/(kappa*x))\n",
    "        if neg_side:\n",
    "            theta = np.pi - theta\n",
    "\n",
    "        return x*np.cos(theta + delta*z/(kappa*x)) -R +R0\n",
    "\n",
    "    try:\n",
    "        a = root_scalar(f, args=(R, z, R0, delta, kappa), bracket=[abs(z/kappa)+1e-13, 2], method='brentq').root\n",
    "        #The extra 1e-13 is to avoid the root finding algorithm to get stuck, as arcsin needs an argument between -1 and 1\n",
    "        return a, np.arcsin(z/(kappa*a))\n",
    "    \n",
    "    except ValueError:\n",
    "        try:\n",
    "            #print('Were on the negative side')\n",
    "            a = root_scalar(f, args=(R, z, R0, delta, kappa, True), bracket=[abs(z/kappa)+1e-13, 2], method='brentq').root\n",
    "            return a, np.pi - np.arcsin(z/(kappa*a))\n",
    "    \n",
    "        except ValueError:\n",
    "            return 2, np.pi\n",
    "\n",
    "def jet_profile(a, theta, amplitude=.25, mode_num=4):\n",
    "    if a>1:\n",
    "        #This is to avoid the plasma extending beyond the last closed flux surface\n",
    "        return 0 \n",
    "    \n",
    "    elif a< .8:\n",
    "        #Inside, the density follows the flux surfaces to 1st order\n",
    "        return np.sqrt(1-a) \n",
    "    \n",
    "    else:\n",
    "        #between around a=.8 to a=1, we add a perturbation, gaussian in a, sinusoidal in theta\n",
    "        return np.sqrt(1-a) + amplitude * np.sin(mode_num*theta)* np.exp(-((a-.9)/.04)**2) \n",
    "    \n",
    "\n",
    "def make_density(R, z, R0, ne_peak, delta, kappa, profile=jet_profile, amplitude=.25, mode_num=4):\n",
    "\n",
    "    grid = np.zeros((len(z), len(R)))\n",
    "    outer_contour_R, outer_contour_z = jet(np.linspace(0, 2*np.pi, 200), 1, R0, delta, kappa)\n",
    "    RM, Rm, zM, zm = np.amax(outer_contour_R), np.amin(outer_contour_R), np.amax(outer_contour_z), np.amin(outer_contour_z)\n",
    "\n",
    "    \n",
    "\n",
    "    for i, R_val in enumerate(R):\n",
    "        for j, z_val in enumerate(z):\n",
    "            if R_val > RM or R_val < Rm or z_val > zM or z_val < zm:\n",
    "                continue\n",
    "            else:\n",
    "                contour_value, theta = inverse(R_val, z_val, R0, delta, kappa)\n",
    "                grid[j, i] = ne_peak *profile(contour_value, theta, amplitude, mode_num)\n",
    "\n",
    "\n",
    "    return grid\n",
    "\n",
    "def transform(angle, a, R0, delta, kappa, scale):\n",
    "    R2, z2 = jet(angle, a, R0, delta, kappa)\n",
    "    R2 *= 53.4 * scale #The plasma extends from R=2 to 4, which is from 1/3 to 2/3 of the integration domain. \n",
    "    z2 *= 53.4 * scale\n",
    "    z2 += 160 * scale\n",
    "    return R2, z2\n"
   ]
  },
  {
   "attachments": {},
   "cell_type": "markdown",
   "metadata": {},
   "source": [
    "## Further simulation setup functions"
   ]
  },
  {
   "attachments": {},
   "cell_type": "markdown",
   "metadata": {
    "tags": []
   },
   "source": [
    "### Antenna for wave excitation"
   ]
  },
  {
   "cell_type": "code",
   "execution_count": 63,
   "metadata": {
    "tags": []
   },
   "outputs": [],
   "source": [
    "@jit\n",
    "def make_antenna_profile(npt_y, xs, w0, source, bb):\n",
    "    \n",
    "    for y in range(2, npt_y - 1, 2):\n",
    "        \n",
    "        aux = (npt_y / 2 - y) / w0\n",
    "        \n",
    "        aux1 = 0.75 * np.exp(-aux * aux) * 20 # gaussian envelope\n",
    "        \n",
    "        # excite Bz component (odd - odd)\n",
    "        bb[int(xs + 1), y + 1] += 2 * source * aux1"
   ]
  },
  {
   "cell_type": "markdown",
   "metadata": {},
   "source": [
    "### Background magnetic field"
   ]
  },
  {
   "cell_type": "code",
   "execution_count": 64,
   "metadata": {
    "tags": []
   },
   "outputs": [],
   "source": [
    "@jit\n",
    "def make_B0(npt_x, npt_y, cntrl_para, b0):\n",
    "    for x in range(0, npt_x - 1, 2):\n",
    "        for y in range(0, npt_y - 1, 2):\n",
    "            b0[x + 1, y + 1] = cntrl_para # B0z"
   ]
  },
  {
   "cell_type": "markdown",
   "metadata": {},
   "source": [
    "### Apply absorbing boundary conditions"
   ]
  },
  {
   "cell_type": "code",
   "execution_count": 65,
   "metadata": {
    "tags": []
   },
   "outputs": [],
   "source": [
    "@jit\n",
    "def absorbers(depth, npt_x, npt_y, ee, bb, jj, b0): # depth -> depth of the absorbing region\n",
    "    # absorbers on the left boundary\n",
    "    for x in range(2, depth + 1):\n",
    "        for y in range(2, npt_y - 1):\n",
    "            \n",
    "            ee[x, y] *= 0.985\n",
    "            bb[x, y] *= 0.985\n",
    "            jj[x, y] *= 0.985\n",
    "            b0[x, y] *= 0.985\n",
    "            \n",
    "    # absorbers on the right boundary\n",
    "    for x in range(npt_x - depth + 1, npt_x - 1):\n",
    "        for y in range(2, npt_y - 1):\n",
    "            \n",
    "            ee[x, y] *= 0.98\n",
    "            bb[x, y] *= 0.98\n",
    "            jj[x, y] *= 0.98\n",
    "            b0[x, y] *= 0.98\n",
    "            \n",
    "    # absorbers on top/bottom boundaries\n",
    "    for x in range(2, npt_x - 1):\n",
    "        for y in range(2, npt_y + 1):\n",
    "            \n",
    "            if (y < depth) or (y > npt_y - depth):\n",
    "                ee[x, y] *= 0.962\n",
    "                bb[x, y] *= 0.962\n",
    "                jj[x, y] *= 0.962\n",
    "                b0[x, y] *= 0.962"
   ]
  },
  {
   "cell_type": "markdown",
   "metadata": {},
   "source": [
    "### Update the equations for the fields"
   ]
  },
  {
   "cell_type": "code",
   "execution_count": 66,
   "metadata": {
    "tags": []
   },
   "outputs": [],
   "source": [
    "@jit\n",
    "def update_equations(npt_x, npt_y, dt, aux_jp,\n",
    "                     ee, bb, jj, b0, epsilon_r):\n",
    "    \n",
    "    for x in range(2, npt_x - 1, 2):\n",
    "        for y in range(2, npt_y - 1, 2):\n",
    "            \n",
    "            # Jx component (odd - even)\n",
    "            jj[x + 1, y] += dt * (\n",
    "                4 * np.pi**2 * ee[x + 1, y] * aux_jp[x, y]\n",
    "                - 4 * np.pi**2 * jj[x, y + 1] * b0[x + 1, y + 1] # + Jy * B0z\n",
    "            ) \n",
    "            \n",
    "            # Jy component (even - odd)\n",
    "            jj[x, y + 1] += dt * (\n",
    "                4 * np.pi**2 * ee[x, y + 1] * aux_jp[x, y]\n",
    "                - 4 * np.pi**2 * (- jj[x + 1, y] * b0[x + 1, y + 1]) # - Jx * B0z\n",
    "            )\n",
    "                                 \n",
    "            \n",
    "            \n",
    "            # Bz component (odd - odd)\n",
    "            # dBz/dt = dEx/dy - dEy/dx - Jx\n",
    "            bb[x + 1, y + 1] += - 0.5 * ((ee[x + 2, y + 1] - ee[x, y + 1]) \n",
    "                                         - (ee[x + 1, y + 2] - ee[x + 1, y])) / epsilon_r[x, y]\n",
    "            \n",
    "            \n",
    "            # Ex component (odd - even)\n",
    "            # dEx/dt = dBz/dy\n",
    "            ee[x + 1, y] += 0.5 * (bb[x + 1, y + 1] - bb[x + 1, y - 1]) - dt * jj[x + 1, y]\n",
    "            \n",
    "            \n",
    "                \n",
    "            # Ey component (even - odd)\n",
    "            # dEy/dt = -dBz/dx - Jy\n",
    "            ee[x, y + 1] += - 0.5 * (bb[x + 1, y + 1] - bb[x - 1, y + 1]) - dt * jj[x, y + 1]           "
   ]
  },
  {
   "cell_type": "markdown",
   "metadata": {},
   "source": [
    "### Power at the receiving antenna ($E_{norm}^2$)\n",
    "\n"
   ]
  },
  {
   "cell_type": "code",
   "execution_count": 67,
   "metadata": {
    "tags": []
   },
   "outputs": [],
   "source": [
    "@jit\n",
    "def power_receving_antenna(npt_y, xr, ee, dens):\n",
    "    \n",
    "    for y in range(2, npt_y - 1, 2):\n",
    "        \n",
    "        # calculate power as\n",
    "        # sqrt(Ex^2 + Ey^2)\n",
    "        aux = np.sqrt(ee[int(xr + 1), y] * ee[int(xr + 1), y] + \n",
    "                     ee[int(xr), y + 1] * ee[int(xr), y + 1])\n",
    "        \n",
    "        # time average\n",
    "        dens[y] = dens[y] * 0.9995 + 0.0005 * aux * aux"
   ]
  },
  {
   "cell_type": "markdown",
   "metadata": {},
   "source": [
    "### Poynting vector Py"
   ]
  },
  {
   "cell_type": "code",
   "execution_count": 68,
   "metadata": {
    "tags": []
   },
   "outputs": [],
   "source": [
    "@jit\n",
    "def poynting_vector_Py(npt_y, xr, ee, bb, dens):\n",
    "    \n",
    "    for y in range(2, npt_y - 1, 2):\n",
    "        \n",
    "        # calculate Poynting vector Py\n",
    "        # Py = - Ex * Hz + Ez * Hx\n",
    "        aux = - ee[int(xr + 1), y] * bb[int(xr + 1), y + 1]\n",
    "        \n",
    "        # time average\n",
    "        dens[y] = dens[y] * 0.9995 + 0.0005 * aux * aux"
   ]
  },
  {
   "cell_type": "markdown",
   "metadata": {},
   "source": [
    "### Define the quartz tube"
   ]
  },
  {
   "cell_type": "code",
   "execution_count": 69,
   "metadata": {
    "tags": []
   },
   "outputs": [],
   "source": [
    "@jit\n",
    "def quartz_tube(quartz, npt_x, npt_y, wavelength, n_period, epsilon_r):\n",
    "    R1 = ((27 / 2) / wavelength) * n_period # inner radius\n",
    "    R2 = ((30 / 2) / wavelength) * n_period # outer radius\n",
    "    \n",
    "    for x in range(0, npt_x + 1):\n",
    "        for y in range(0, npt_y + 1):\n",
    "            aux1 = (x - npt_x / 2)\n",
    "            aux2 = (y - npt_y / 2)\n",
    "            R = np.sqrt(aux1**2 + aux2**2)\n",
    "            \n",
    "            if (quartz == 1) and (R >= R1) and (R <= R2):\n",
    "                epsilon_r[x, y] = 3.75 # value from comsol\n",
    "            else:\n",
    "                epsilon_r[x, y] = 1"
   ]
  },
  {
   "attachments": {},
   "cell_type": "markdown",
   "metadata": {},
   "source": [
    "## Set-up the simulation parameters"
   ]
  },
  {
   "cell_type": "code",
   "execution_count": 70,
   "metadata": {},
   "outputs": [
    {
     "data": {
      "text/plain": [
       "'------------------------------------------'"
      ]
     },
     "execution_count": 70,
     "metadata": {},
     "output_type": "execute_result"
    }
   ],
   "source": [
    "# input parameters\n",
    "scale = 1 # variable to scale the code\n",
    "\n",
    "situation = 2 # 0 -> plasma torch, 1 -> fusion proxy, 2 -> JET-like profile\n",
    "\n",
    "# background magnetic field strength\n",
    "cntrl_para = 0.0\n",
    "\n",
    "\"\"\"------------------------------------------\"\"\"\n",
    "\n",
    "# plasma profile\n",
    "\n",
    "#for the plasma torch\n",
    "plasma_width = 10 # plasma width in mm\n",
    "exponent = 2 # exponent for supergaussian\n",
    "\n",
    "#for the fusion proxy\n",
    "eps=1.3 \n",
    "triang=.4\n",
    "\n",
    "#for the JET-like profile\n",
    "\n",
    "ne_peak = .31        # peak plasma density (normalised to cutoff density)\n",
    "\n",
    "R0 = 3.23              # centre of the plasma profile\n",
    "delta = .75       # triangularity\n",
    "kappa = 1.7        # elongation\n",
    "\n",
    "amplitude = .25    # amplitude of the plasma perturbation\n",
    "mode_num = 3        # mode number of the plasma perturbation\n",
    "\n",
    "\"\"\"------------------------------------------\"\"\"\n",
    "\n"
   ]
  },
  {
   "cell_type": "code",
   "execution_count": 71,
   "metadata": {
    "tags": []
   },
   "outputs": [],
   "source": [
    "# number of points in the horizontal direction\n",
    "Nx = 640 * scale \n",
    "\n",
    "# number of points in the vertical direction\n",
    "Ny = 640 * scale\n",
    "\n",
    "# grid points per period\n",
    "n_period = 16 * scale\n",
    "\n",
    "# simulation time steps\n",
    "t_end = 125 * n_period\n",
    "\n",
    "# time step to start recording power at receiving antenna plane\n",
    "t_power = 20 * n_period\n",
    "\n",
    "# probing frequency in GHz\n",
    "fo = 208 # GHz\n",
    "\n",
    "# wavelength in meters\n",
    "lambda_0 = sp.constants.c / (fo * 10**9)\n",
    "\n",
    "# wavelength in mm\n",
    "wavelength = lambda_0 * 10**3\n",
    "\n",
    "# beam waist \n",
    "w0 = 2. / wavelength * n_period\n",
    "\n",
    "# length step in fdtd code\n",
    "dx = 1 / (n_period / 2)\n",
    "\n",
    "# effective stime step in fdtd code\n",
    "dt = 1 / (2 * (n_period / 2))\n",
    "\n",
    "# time step for antenna excitation\n",
    "dt_1 = 1 / n_period\n",
    "\n",
    "fwhm = ((plasma_width / 1.7) / wavelength) * n_period # fwhm and standard deviation of Gaussian plasma\n",
    "stdev = fwhm / (2 * np.sqrt(2 * np.log(2)))\n",
    "\n",
    "# define fields\n",
    "EE = np.zeros((Nx + 4, Ny + 4)) # electric field\n",
    "BB = np.zeros((Nx + 4, Ny + 4)) # magnetic field\n",
    "JJ = np.zeros((Nx + 4, Ny + 4)) # current density\n",
    "B0 = np.zeros((Nx + 4, Ny + 4)) # background magnetic field \n",
    "EPSILON_R = np.zeros((Nx + 4, Ny + 4)) # relative permittivity for quartz tube\n",
    "\n",
    "\n",
    "# array to monitor power at receiving antenna plane\n",
    "dens = np.zeros(Ny + 4)\n",
    "\n",
    "# quartz tube outer radius\n",
    "R_outer = ((30 / 2) / wavelength) * n_period\n",
    "\n",
    "# emitting antenna position\n",
    "xs = np.floor(Nx / 2 - R_outer - n_period)\n",
    "\n",
    "# receiving antenna position\n",
    "xr = np.ceil(Nx / 2 + R_outer + n_period)\n",
    "\n",
    "# ensure antennas are located at even grid points\n",
    "if xs % 2 != 0:\n",
    "    xs -= 1\n",
    "    \n",
    "if xr % 2 != 0:\n",
    "    xr += 1"
   ]
  },
  {
   "cell_type": "markdown",
   "metadata": {},
   "source": [
    "## Calculate electromagnetic wave propagation"
   ]
  },
  {
   "cell_type": "code",
   "execution_count": 72,
   "metadata": {
    "tags": []
   },
   "outputs": [
    {
     "data": {
      "image/png": "[encoded data removed]",
      "text/plain": [
       "<Figure size 1300x500 with 3 Axes>"
      ]
     },
     "metadata": {},
     "output_type": "display_data"
    }
   ],
   "source": [
    "#create the plasma profile initially\n",
    "if situation == 0:\n",
    "\n",
    "    quartz=1 # quartz -> 0, 1 include quartz (1) or not (0)\n",
    "\n",
    "    x2 = np.arange(0, 40*n_period, 1)\n",
    "\n",
    "    X, Y = np.meshgrid(x2, x2)\n",
    "\n",
    "    aux_jp = old_profile(X, Y, Nx, Ny, ne_peak, stdev, exponent, scale)\n",
    "    \n",
    "    \n",
    "elif situation == 1:\n",
    "\n",
    "    quartz=0\n",
    "\n",
    "    x2 = np.arange(0, 40*n_period, 1)\n",
    "\n",
    "    X, Y = np.meshgrid(x2, x2)\n",
    "\n",
    "    aux_jp = profile(X, Y, Nx, Ny, ne_peak, eps, triang, scale)\n",
    "\n",
    "elif situation == 2:\n",
    "\n",
    "    quartz=0\n",
    "\n",
    "    R = np.linspace(0, 6, 40*n_period)\n",
    "    z = np.linspace(-3, 3, 40*n_period)\n",
    "\n",
    "    aux_jp = make_density(R,z, R0, ne_peak, delta, kappa, jet_profile, amplitude, mode_num)\n",
    "\n",
    "    fig, ax = plt.subplots(1, 2, figsize=(13, 5))\n",
    "    cont= ax[0].imshow(aux_jp, cmap='cividis')\n",
    "    #ax[0].contour(aux_jp, 10, colors='black', linewidths=0.7)\n",
    "    ax[0].set_aspect('equal')\n",
    "    ax[0].set_title(f'Density profile, R0={R0}, delta={delta}, kappa={kappa}')\n",
    "    divider_1 = make_axes_locatable(ax[0])\n",
    "    cax = divider_1.append_axes(\"right\", size=\"5%\", pad=0.3)\n",
    "\n",
    "    plt.colorbar(cont, cax=cax)\n",
    "    \n",
    "    angle = np.linspace(0.01, 2*np.pi, 200)\n",
    "    R2, z2 = transform(angle, 1, R0, delta, kappa, scale)\n",
    "    #ax[0].plot(R2*2, z2*2, color='black', linewidth=1)\n",
    "    \n",
    "    a_vals= np.linspace(0, 1, 300)\n",
    "    thetas = np.linspace(0, 2*np.pi, 10)\n",
    "    prof = np.array([[ne_peak*jet_profile(a, theta, amplitude, mode_num) for a in a_vals] for theta in thetas])\n",
    "    for i in range(len(thetas)):\n",
    "        ax[1].plot(a_vals, prof[i], linewidth=1, label=f'theta={(thetas[i]/np.pi*180):.2f}°')\n",
    "    ax[1].set_xlabel('a')\n",
    "    ax[1].set_ylabel('Density')\n",
    "    ax[1].set_title('Density in terms of a')\n",
    "    ax[1].legend()\n",
    "\n",
    "    \n",
    "\n",
    "\"\"\"------------------------------------------\"\"\"\n",
    "\n",
    "make_B0(Nx, Ny, cntrl_para, B0)\n",
    "\n",
    "quartz_tube(quartz, Nx, Ny, wavelength, n_period, EPSILON_R)\n",
    "\n",
    "# omega_t = omega * t\n",
    "omega_t = 0"
   ]
  },
  {
   "cell_type": "code",
   "execution_count": 73,
   "metadata": {
    "tags": []
   },
   "outputs": [],
   "source": [
    "\n",
    "# make circles to represent quartz tube\n",
    "radius_1 = ((27 / 2) / wavelength) * n_period\n",
    "radius_2 = ((30 / 2) / wavelength) * n_period\n",
    "\n",
    "inner_radius = np.zeros((Nx, Ny))\n",
    "outer_radius = np.zeros((Nx, Ny))\n",
    "for x in range(Nx):\n",
    "    for y in range(Ny):\n",
    "        inner_radius[x, y] = (x - Nx / 2)**2 + (y - Ny / 2)**2 - radius_1**2\n",
    "        outer_radius[x, y] = (x - Nx / 2)**2 + (y - Ny / 2)**2 - radius_2**2\n",
    "        \n",
    "        \n",
    "# create a mock plasma profile      \n",
    "\n",
    "plasma_radius = np.zeros((Nx, Ny))\n",
    "for x in range(2, Nx - 2, 2):\n",
    "    for y in range(2, Ny - 2, 2):\n",
    "        #plasma_radius[x][y] = (x - x_max/2)**2 + (y - y_max/2)**2 - plasma_r**2\n",
    "        plasma_radius[x, y] = ne_peak * np.exp(-(((x - Nx / 2)**2) / (2 * stdev**2) +  \n",
    "                                                ((y - Ny / 2)**2) / (2 * stdev**2))**int(exponent))\n"
   ]
  },
  {
   "cell_type": "code",
   "execution_count": 74,
   "metadata": {},
   "outputs": [],
   "source": [
    "from mpl_toolkits.axes_grid1 import make_axes_locatable\n",
    "import matplotlib.gridspec as gridspec\n",
    "\n",
    "def store_pictures(EE, BB, dens, n_period, Nx, Ny, situation, scale, counter):\n",
    "    gs = gridspec.GridSpec(1, 3)\n",
    "\n",
    "    plt.figure(figsize = (21, 6), dpi = 100)\n",
    "\n",
    "    # power at receiving antenna\n",
    "    ax1 = plt.subplot(gs[0, 2])\n",
    "    ax1.plot(dens[3*n_period:-3*n_period:2])\n",
    "    ax1.set_title('Power at receiving antenna', fontsize = 14)\n",
    "    ax1.axvline(x = Nx/4-1.5*n_period, color = 'grey', linestyle = '--')\n",
    "    ax1.set_ylabel('Power / AU')\n",
    "    ax1.set_ylim(0,20)\n",
    "    #ax1.legend(loc='upper right', fontsize=15)\n",
    "\n",
    "    # contourf of |E|\n",
    "    ax2 = plt.subplot(gs[0, 1])\n",
    "\n",
    "    M = np.amax(np.abs(EE[::2, 1::2]))\n",
    "    cf = ax2.contourf(EE[::2, 1::2], vmax=22.5, vmin=-22.5, levels=200, cmap=mymap, extend='max')\n",
    "    ax2.set_title(r'E_y', fontsize = 14)\n",
    "    ax2.set_aspect('equal')\n",
    "\n",
    "    divider_1 = make_axes_locatable(ax2)\n",
    "    cax = divider_1.append_axes(\"right\", size=\"5%\", pad=0.3)\n",
    "\n",
    "    norm_1 = matplotlib.colors.Normalize(vmin=-22.5, vmax=22.5)\n",
    "    plt.colorbar(matplotlib.cm.ScalarMappable(norm=norm_1, cmap=mymap), cax=cax)\n",
    "\n",
    "    ax3 = plt.subplot(gs[0, 0])\n",
    "    px =  -EE[1::2, ::2] * BB[1::2, 1::2]\n",
    "    py = EE[::2, 1::2] * BB[1::2, 1::2]\n",
    "    power_dens = EE[::2, 1::2]**2 + BB[1::2, 1::2]**2\n",
    "    Mx, mx = np.amax(px), np.amin(px)\n",
    "    My, my = np.amax(py), np.amin(py)\n",
    "    M3, m3 = np.amax(power_dens), np.amin(power_dens)\n",
    "    cf_extra = ax3.contourf(py, vmax=500, vmin=-500, levels=200, cmap=mymap, extend='max')\n",
    "    ax3.set_title(r'P_y', fontsize = 14)\n",
    "    ax3.set_aspect('equal')\n",
    "\n",
    "    divider_2 = make_axes_locatable(ax3)\n",
    "    cax = divider_2.append_axes(\"right\", size=\"5%\", pad=0.3)\n",
    "    norm = matplotlib.colors.Normalize(vmin=-500, vmax=500)\n",
    "    plt.colorbar(matplotlib.cm.ScalarMappable(norm=norm, cmap=mymap), cax=cax)\n",
    "\n",
    "\n",
    "    if situation == 0:\n",
    "    # plot circles to represent the quartz tube\n",
    "        ax2.contour(inner_radius[::2, ::2], levels = 0)\n",
    "        ax2.contour(outer_radius[::2, ::2], levels = 0)\n",
    "        ax3.contour(inner_radius[::2, ::2], levels = 0)\n",
    "        ax3.contour(outer_radius[::2, ::2], levels = 0)\n",
    "        \n",
    "        cf1 = ax2.contour(plasma_radius[::2, ::2], levels=np.arange(0.1, 1, .1), colors='black', linewidths=1)\n",
    "        cf2 = ax2.contour(plasma_radius[::2, ::2], levels=[.01], colors='white', linewidths=1)\n",
    "        cf3 = ax3.contour(plasma_radius[::2, ::2], levels=np.arange(0.1, 1, .1), colors='black', linewidths=1)\n",
    "        cf4 = ax3.contour(plasma_radius[::2, ::2], levels=[.01], colors='white', linewidths=1)\n",
    "\n",
    "    elif situation == 1:\n",
    "\n",
    "        x2 = np.arange(0, 20*n_period, 1)\n",
    "        X, Y = np.meshgrid(x2, x2)\n",
    "\n",
    "        ax2.contour(profile(X, Y, Nx/2, Ny/2, scale=scale/2, eps=eps, triang=triang), levels=np.arange(0.1, 1, .1), colors='black', linewidths=1)\n",
    "        ax2.contour(profile(X, Y, Nx/2, Ny/2, scale=scale/2, eps=eps, triang=triang), levels=[.01], colors='white', linewidths=1)\n",
    "        ax3.contour(profile(X, Y, Nx/2, Ny/2, scale=scale/2, eps=eps, triang=triang), levels=np.arange(0.1, 1, .1), colors='black', linewidths=1)\n",
    "        ax3.contour(profile(X, Y, Nx/2, Ny/2, scale=scale/2, eps=eps, triang=triang), levels=[.01], colors='white', linewidths=1)\n",
    "\n",
    "    elif situation == 2:\n",
    "\n",
    "        ax2.contour(aux_jp[::2, ::2], levels=8, colors='black', linewidths=1)\n",
    "        ax2.contour(aux_jp[::2, ::2], levels=[0], colors='white', linewidths=1)\n",
    "        ax3.contour(aux_jp[::2, ::2], levels=8, colors='black', linewidths=1)\n",
    "        ax3.contour(aux_jp[::2, ::2], levels=[0], colors='white', linewidths=1)\n",
    "\n",
    "    plt.savefig(f'99_files/shots/picture_{counter:03d}.png')\n",
    "    plt.close()\n",
    "\n"
   ]
  },
  {
   "cell_type": "code",
   "execution_count": 75,
   "metadata": {},
   "outputs": [
    {
     "name": "stderr",
     "output_type": "stream",
     "text": [
      "C:\\Users\\ewout\\AppData\\Local\\Temp\\ipykernel_11392\\3620755467.py:74: UserWarning: No contour levels were found within the data range.\n",
      "  ax2.contour(aux_jp[::2, ::2], levels=[0], colors='white', linewidths=1)\n",
      "C:\\Users\\ewout\\AppData\\Local\\Temp\\ipykernel_11392\\3620755467.py:76: UserWarning: No contour levels were found within the data range.\n",
      "  ax3.contour(aux_jp[::2, ::2], levels=[0], colors='white', linewidths=1)\n",
      "C:\\Users\\ewout\\AppData\\Local\\Temp\\ipykernel_11392\\3620755467.py:74: UserWarning: No contour levels were found within the data range.\n",
      "  ax2.contour(aux_jp[::2, ::2], levels=[0], colors='white', linewidths=1)\n",
      "C:\\Users\\ewout\\AppData\\Local\\Temp\\ipykernel_11392\\3620755467.py:76: UserWarning: No contour levels were found within the data range.\n",
      "  ax3.contour(aux_jp[::2, ::2], levels=[0], colors='white', linewidths=1)\n"
     ]
    },
    {
     "name": "stdout",
     "output_type": "stream",
     "text": [
      "Code finished successfuly\n",
      "CPU times: total: 1min 15s\n",
      "Wall time: 2min 18s\n"
     ]
    }
   ],
   "source": [
    "%%time\n",
    "%matplotlib inline\n",
    "\n",
    "\"\"\"----------MAIN LOOP----------\"\"\"\n",
    "counter=0\n",
    "\n",
    "for t_int in range(0, t_end + 1):\n",
    "    \n",
    "    aux = t_int / 140\n",
    "    \n",
    "    t_rise = 1 - np.exp(-aux * aux)\n",
    "    \n",
    "    omega_t += 2 * np.pi * dt_1\n",
    "    \n",
    "    if (omega_t > 2 * np.pi):\n",
    "        omega_t -= 2 * np.pi\n",
    "    \n",
    "    source = np.sin(omega_t) * t_rise / 1.4\n",
    "    \n",
    "    # excite magnetic field\n",
    "    make_antenna_profile(Ny, xs, w0, source, BB)    \n",
    "            \n",
    "    # apply the absorbing boundary conditions\n",
    "    absorbers(int(3 * n_period), Nx, Ny, EE, BB, JJ, B0)\n",
    "    \n",
    "    # update equations\n",
    "    update_equations(Nx, Ny, dt, aux_jp, \n",
    "                     EE, BB, JJ, B0, EPSILON_R)\n",
    "    \n",
    "    # monitor power\n",
    "    if t_int > t_power:\n",
    "        \n",
    "        power_receving_antenna(Ny, xr, EE, dens)\n",
    "        #poynting_vector_Py(Ny, xr, EE, BB, dens)\n",
    "\n",
    "    if t_int % 25 == 0:\n",
    "        counter += 1\n",
    "        store_pictures(EE, BB, dens, n_period, Nx, Ny, situation, scale, counter)\n",
    "\n",
    "np.savetxt(f'{situation}_{scale}_{R0}_{delta}_{kappa}_{amplitude}_{mode_num}.txt', dens[3*n_period:-3*n_period:2])\n",
    "print('Code finished successfuly') "
   ]
  },
  {
   "cell_type": "markdown",
   "metadata": {},
   "source": [
    "## Plot results"
   ]
  },
  {
   "cell_type": "code",
   "execution_count": 76,
   "metadata": {},
   "outputs": [
    {
     "data": {
      "text/plain": [
       "0"
      ]
     },
     "execution_count": 76,
     "metadata": {},
     "output_type": "execute_result"
    }
   ],
   "source": [
    "import os\n",
    "\n",
    "os.system(\"ffmpeg  -r 1/0.1 -i ./99_files/shots/picture_%3d.png -vb 20M -vcodec mpeg4 -y ./99_files/shots/evolution.mp4\")"
   ]
  }
 ],
 "metadata": {
  "kernelspec": {
   "display_name": "Python 3",
   "language": "python",
   "name": "python3"
  },
  "language_info": {
   "codemirror_mode": {
    "name": "ipython",
    "version": 3
   },
   "file_extension": ".py",
   "mimetype": "text/x-python",
   "name": "python",
   "nbconvert_exporter": "python",
   "pygments_lexer": "ipython3",
   "version": "3.9.12"
  },
  "toc-autonumbering": false,
  "toc-showcode": false,
  "toc-showmarkdowntxt": false
 },
 "nbformat": 4,
 "nbformat_minor": 4
}
